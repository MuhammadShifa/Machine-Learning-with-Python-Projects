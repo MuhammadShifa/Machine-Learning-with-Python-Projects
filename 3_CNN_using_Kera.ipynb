{
  "nbformat": 4,
  "nbformat_minor": 0,
  "metadata": {
    "colab": {
      "name": "3 CNN  using Kera.ipynb",
      "provenance": []
    },
    "kernelspec": {
      "name": "python3",
      "display_name": "Python 3"
    },
    "accelerator": "GPU"
  },
  "cells": [
    {
      "cell_type": "markdown",
      "metadata": {
        "id": "IcM-VYFYCx9d"
      },
      "source": [
        "#### MNIST CLassification with KERAS"
      ]
    },
    {
      "cell_type": "markdown",
      "metadata": {
        "id": "Qa4m4U6u2Bu9"
      },
      "source": [
        "MNIST is a great dataset for getting started with deep learning and computer vision. It's a big enough challenge to warrant neural networks, but it's manageable on a single computer. \r\n",
        "\r\n",
        "The Keras library conveniently includes it already. We can load it like so:\r\n",
        "\r\n"
      ]
    },
    {
      "cell_type": "code",
      "metadata": {
        "colab": {
          "base_uri": "https://localhost:8080/"
        },
        "id": "HXY6oJRZ5tCy",
        "outputId": "80049838-8757-4241-a350-02d10639b81f"
      },
      "source": [
        "# import the neccesssary Libraries\r\n",
        "import keras\r\n",
        "from keras.datasets import mnist\r\n",
        "from keras.utils import to_categorical\r\n",
        "from keras.models import Sequential\r\n",
        "from keras.layers import Conv2D, Dense, MaxPooling2D, Flatten, Dropout\r\n",
        "\r\n",
        "# Load the dataset\r\n",
        "(train_images, train_labels),(test_images, test_label) = mnist.load_data()\r\n",
        "\r\n",
        "# Reshape images\r\n",
        "train_images = train_images.reshape(60000,28,28,1)\r\n",
        "train_images = train_images.astype('float32')/255\r\n",
        "\r\n",
        "test_images = test_images.reshape(10000,28,28,1)\r\n",
        "test_images = test_images.astype('float32')/255\r\n",
        "\r\n",
        "train_labels = to_categorical(train_labels)\r\n",
        "test_labels = to_categorical(test_label)\r\n",
        "\r\n",
        "# Input image dimensions\r\n",
        "img_rows, img_cols = 28, 28\r\n",
        "input_shape = (img_rows, img_cols, 1)\r\n",
        "\r\n",
        "# Define the Model\r\n",
        "\r\n",
        "model = Sequential()\r\n",
        "model.add(Conv2D(32, kernel_size=(3, 3),\r\n",
        "                 activation='relu',\r\n",
        "                 input_shape=input_shape))\r\n",
        "model.add(Conv2D(64, (3, 3), activation='relu'))\r\n",
        "model.add(MaxPooling2D(pool_size=(2, 2)))\r\n",
        "model.add(Dropout(0.25))\r\n",
        "model.add(Flatten())\r\n",
        "model.add(Dense(128, activation='relu'))\r\n",
        "model.add(Dropout(0.5))\r\n",
        "model.add(Dense(10, activation='softmax'))\r\n",
        "\r\n",
        "# Model Summary\r\n",
        "model.summary()\r\n",
        "\r\n",
        "# Compile the model\r\n",
        "opt = keras.optimizers.Adadelta(learning_rate=1.0)\r\n",
        "model.compile(loss = 'categorical_crossentropy', optimizer= opt, metrics= ['accuracy'])\r\n",
        "\r\n",
        "# Fit the model on training dataset\r\n",
        "model.fit(train_images, train_labels, epochs=12, batch_size=128,verbose= 1)\r\n",
        "\r\n",
        "# Evaluate the model\r\n",
        "test_loss, test_acc = model.evaluate(test_images, test_labels)\r\n",
        "print(\"The test Accuaracy of Model is: \", test_acc)\r\n"
      ],
      "execution_count": null,
      "outputs": [
        {
          "output_type": "stream",
          "text": [
            "Model: \"sequential_3\"\n",
            "_________________________________________________________________\n",
            "Layer (type)                 Output Shape              Param #   \n",
            "=================================================================\n",
            "conv2d_4 (Conv2D)            (None, 26, 26, 32)        320       \n",
            "_________________________________________________________________\n",
            "conv2d_5 (Conv2D)            (None, 24, 24, 64)        18496     \n",
            "_________________________________________________________________\n",
            "max_pooling2d_2 (MaxPooling2 (None, 12, 12, 64)        0         \n",
            "_________________________________________________________________\n",
            "dropout_2 (Dropout)          (None, 12, 12, 64)        0         \n",
            "_________________________________________________________________\n",
            "flatten_1 (Flatten)          (None, 9216)              0         \n",
            "_________________________________________________________________\n",
            "dense_2 (Dense)              (None, 128)               1179776   \n",
            "_________________________________________________________________\n",
            "dropout_3 (Dropout)          (None, 128)               0         \n",
            "_________________________________________________________________\n",
            "dense_3 (Dense)              (None, 10)                1290      \n",
            "=================================================================\n",
            "Total params: 1,199,882\n",
            "Trainable params: 1,199,882\n",
            "Non-trainable params: 0\n",
            "_________________________________________________________________\n",
            "Epoch 1/12\n",
            "469/469 [==============================] - 11s 7ms/step - loss: 0.5494 - accuracy: 0.8261\n",
            "Epoch 2/12\n",
            "469/469 [==============================] - 3s 7ms/step - loss: 0.0921 - accuracy: 0.9712\n",
            "Epoch 3/12\n",
            "469/469 [==============================] - 3s 7ms/step - loss: 0.0700 - accuracy: 0.9788\n",
            "Epoch 4/12\n",
            "469/469 [==============================] - 3s 7ms/step - loss: 0.0523 - accuracy: 0.9845\n",
            "Epoch 5/12\n",
            "469/469 [==============================] - 3s 7ms/step - loss: 0.0471 - accuracy: 0.9859\n",
            "Epoch 6/12\n",
            "469/469 [==============================] - 3s 7ms/step - loss: 0.0424 - accuracy: 0.9873\n",
            "Epoch 7/12\n",
            "469/469 [==============================] - 3s 7ms/step - loss: 0.0337 - accuracy: 0.9894\n",
            "Epoch 8/12\n",
            "469/469 [==============================] - 3s 7ms/step - loss: 0.0332 - accuracy: 0.9895\n",
            "Epoch 9/12\n",
            "469/469 [==============================] - 3s 7ms/step - loss: 0.0309 - accuracy: 0.9908\n",
            "Epoch 10/12\n",
            "469/469 [==============================] - 3s 7ms/step - loss: 0.0320 - accuracy: 0.9908\n",
            "Epoch 11/12\n",
            "469/469 [==============================] - 3s 7ms/step - loss: 0.0255 - accuracy: 0.9922\n",
            "Epoch 12/12\n",
            "469/469 [==============================] - 3s 7ms/step - loss: 0.0269 - accuracy: 0.9918\n",
            "313/313 [==============================] - 1s 2ms/step - loss: 0.0277 - accuracy: 0.9918\n",
            "The test Accuaracy of Model is:  0.9918000102043152\n"
          ],
          "name": "stdout"
        }
      ]
    },
    {
      "cell_type": "code",
      "metadata": {
        "id": "yCV-kbOUTofw"
      },
      "source": [
        ""
      ],
      "execution_count": null,
      "outputs": []
    }
  ]
}